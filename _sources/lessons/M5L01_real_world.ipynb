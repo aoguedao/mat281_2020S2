{
 "cells": [
  {
   "cell_type": "markdown",
   "metadata": {},
   "source": [
    "# Es hora de decir adiós"
   ]
  },
  {
   "cell_type": "markdown",
   "metadata": {},
   "source": [
    "Esta será la última clase del semestre en cuanto a contenidos, trataremos de cerrar con broche de oro con lo que debería depararte el destino después del curso de Aplicaciones de la Matemática en la Ingeniería."
   ]
  },
  {
   "cell_type": "markdown",
   "metadata": {},
   "source": [
    "## Mundo Laboral\n",
    "\n",
    "Esta sección está basada casi en su totalidad en la versión del curso dictada el año 2018, en esa ocasión el que dictó la clase de Mundo Laboral fue [Sebastián Flores Benner](https://www.linkedin.com/in/sebastiandres/) (mi actual jefe), quien tiene mucha más experiencia en esto."
   ]
  },
  {
   "cell_type": "markdown",
   "metadata": {},
   "source": [
    "### Entrevista de Trabajo\n",
    "\n",
    "Algunos tips y recomendaciones que podrían ser útiles a la hora de enfrentar una entrevista de trabajo. Digámos las cosas como son, los sansanos no nos caracterizamos por ser las personas más elocuentes del país. Si a lo anterior le sumas la carrera de Ingeniería Civil Matemática obtenemos un mal cliché."
   ]
  },
  {
   "cell_type": "markdown",
   "metadata": {},
   "source": [
    "#### Antes\n",
    "\n",
    "1. **Transversales**\n",
    "    1. Participar en actividades extraprogramáticas, representación de la carrera u otros intereses.\n",
    "        - **Objetivo**: aprender a distribuir tiempos.\n",
    "    1. Obtener aprendizajes fuera de la universidad: cursos en línea, kaggle, etc. \n",
    "        - **Objetivo**: romper la burbuja y tener \"calle\".\n",
    "    1. Maximizar el aprendizaje, aún a costo de bajar las notas.\n",
    "        - **Objetivo**: obtener recomendaciones, capacidades y habilidades.\n",
    "    1. Generar perfil profesional: LinkedIn, correo profesional, etc.\n",
    "        - **Objetivo**: mostrarse profesional y poder hacer networking.\n",
    "1. **Preparación**\n",
    "    1. Sobre la **empresa**: ¿Qué hacen? ¿Porqué lo hacen? ¿Quiénes pagan por el producto/servicio? ¿Quiénes trabajan en la empresa?\n",
    "    1. Sobre la **posición**: ¿Qué se espera del cargo? ¿Que responsabilidades tendrá? ¿Qué herramientas y conocimientos previos se requieren?\n",
    "    1. **Referencias**: ¿Conozco alguien que ha trabajado/entrevistado ahí? ¿Qué tipo de entrevistas hacen?\n",
    "    1. **Lecturas**: Si tienes poca/nula experiencia en entrevistas, googlea e infórmate de las preguntas más comunes y prepara algunas respuestas honestas. \n",
    "    1. Todos las condiciones de un trabajo son referenciales. Si estás interesado, demuéstralo y negocia.\n",
    "1. **Curriculum Vitae**\n",
    "    1. **Formato**: Evitar templates clásicos, buscar algo que sea memorable.\n",
    "    1. **Extensión**: 1 página. Máximo 2 páginas.\n",
    "    1. **Ortografía**: Que una tercera persona, ojalá un maniático del detalle, revise el CV.\n",
    "    1. **Proactividad**: Orientación a resultados generados y experiencias adquiridas.\n",
    "    1. **Contenido**: Datos de identificación, estudios relevantes al cargo, trabajos anteriores, referencias. No: estado civil, hijos, fotos, información no relevante.\n",
    "    \n",
    "#### Durante\n",
    "1. **Actitud**\n",
    "    1. **Relajado pero interesado**: \n",
    "        * No pierdes nada. Estadísticamente, lo más probable es que no consigas el trabajo/práctica pero si ganarás experiencia para la próxima entrevista.\n",
    "        * El mayor riesgo está en el lado del empleador, quien está gastando tiempo y recursos por una apuesta de un trabajador sobre la media.\n",
    "    1. **Interesado y Proactivo**: \n",
    "        * Se busca gente que solucione problemas, no que se quede pasiva, menos aún que los genere.\n",
    "        * Muestra interés genuino por el trabajo/práctica.\n",
    "    1. **Respaldo con ejemplos**:\n",
    "        * Ten preparados ejemplos de proyectos y trabajos que hayan destacado y que demuestren pasión y calidad.\n",
    "2. **_Beer Test_**\n",
    "    - Si la persona que hace la entrevista es otro ingeniero, relájate... \n",
    "        * Situación es fácil de leer y anticipar con suficiente preparación.\n",
    "        * Lo más probable es que el otro ingeniero estaba en medio de su trabajo y lo están obligando a realizar entrevistas.\n",
    "        * No tiene más preparación para hacer entrevistas que tú como entrevistado. Probablemente sólo googleó \"Interview questions\" en google y anotó las que le parecían más razonables.\n",
    "        * Sólo hay que pasar el _beer test_: el otro ingeniero sólo busca alguien que sea *suficientemente* capacitado para resolver problemas y que sea alguien con quien no sea desagradable trabajar.\n",
    "3. Algunas preguntas\n",
    "    * Sobre tipo de **mentalidad**: ¿Cómo has superado un obstáculo o fracaso?\n",
    "    * Soble trabajo con **stress**: ¿Cómo enfrentas situaciones difíciles, como deadlines o personas complejas?\n",
    "    * Sobre **trabajo en equipo**: ¿Cómo trabajas en equipo? \n",
    "    * Sobre **frustración**: ¿Cómo has tratado o tratarías el caso de un compañero de equipo que no hace su parte?\n",
    "    * Sobre **rigor y detallismo**: Cuéntame de algún proyecto personal que te represente profesionalmente.\n",
    "    \n",
    "#### Después\n",
    "\n",
    "1. Follow Up\n",
    "    * Reflexiona sobre lo que podrías haber hecho mejor. ¿Mejor preparación? ¿Revisión de conceptos e ideas? ¿Mayor confianza? **Corrige** para hacerlo mejor la próxima vez.\n",
    "    * Envía un **correo** agradeciendo la entrevista sin ser falso: \"*consideré interesante la pregunta X, ...*\". A cada puesto postulan 10 a 100 personas, y esos pequeños gestos destacan.\n",
    "    * En caso de no ser aceptado, puedes pedir retroalimentación. Poca gente lo hace. A veces las razones son diametralmente opuestas a las que uno imaginaba.\n",
    "    * La práctica hace al maestro: postula a prácticas o trabajos aunque no estes 100% interesado. Permitirá generar confianza para la entrevista del *trabajo soñado*."
   ]
  },
  {
   "cell_type": "markdown",
   "metadata": {},
   "source": [
    "### La oficina\n",
    "\n",
    "La vida en la oficina puede parecer una locura en ocasiones, aquí algunas cosas a tener en consideración\n",
    "\n",
    "1. Principio de Incompetencia de Peter\n",
    "    - En una jerarquía, todo empleado tiende a ascender hasta su nivel de incompetencia: la nota sube hasta cortarse.\n",
    "1. Principio de Hanlon\n",
    "    - Nunca atribuyas a la maldad lo que puede ser explicado por la estupidez.\n",
    "1. Ley de Parkinson\n",
    "    - El trabajo se expande hasta llenar el tiempo disponible para su realización.\n",
    "1. Ley de Murphy\n",
    "    - Todo lo que puede salir mal, saldrá mal."
   ]
  },
  {
   "cell_type": "markdown",
   "metadata": {},
   "source": [
    "### Relaciones Interpersonales\n",
    "\n",
    "(Source: Dr. Tony Alessandra, creador de _The Platinium Rule_.)\n",
    "\n",
    "* __Silver Rule__\n",
    "    - *One should not treat others in ways that one would not like to be treated*: No trates a otros en una forma que no quieras ser tratado.\n",
    "* __Golden Rule__\n",
    "    - *One should treat others as one would like others to treat oneself*: Trata a otros en la misma forma que quieras ser tratado.\n",
    "* __Platinium Rule__\n",
    "    - *Treat others the way they want to be treated*: Trata a otros en la forma que ellos quieren ser tratados.\n",
    "    - Enfoque reduccionista y simplista, pero sencillo de recordar y aplicar."
   ]
  },
  {
   "cell_type": "markdown",
   "metadata": {},
   "source": [
    "Hay cuatro tipos básicos de personalidad:\n",
    "\n",
    "1. Pensador (Thinker)\n",
    "1. Director (Director)\n",
    "1. Relacionador (Relater)\n",
    "1. Sociabilizador (Socializer)\n",
    "\n",
    "![pr](../images/PR1.png)"
   ]
  },
  {
   "cell_type": "markdown",
   "metadata": {},
   "source": [
    "El _cliché_:\n",
    "1. ***Pensador (Thinker)***: científico/contador.\n",
    "1. ***Director (Director)***: gerente/sargento.\n",
    "1. ***Relacionador (Relater)***: enfermero/sicólogo.\n",
    "1. ***Sociabilizador (Socializer)***: vendedor de autos/publicista.\n",
    "\n",
    "![pr2](../images/PR4.png)"
   ]
  },
  {
   "cell_type": "markdown",
   "metadata": {},
   "source": [
    "#### _Thinker_\n",
    "\n",
    "![thinker](../images/PR4c.png)\n",
    "\n",
    "- ¿Qué hacen bien?\n",
    "    * Organizar y planificar.\n",
    "    * Rápido para pensar, pero lento para hablar y actuar.\n",
    "    * Trabajar individualmente.\n",
    "- ¿Qué les cuesta?\n",
    "    * Trabajar con gente desorganizada o en ambientes caóticos.\n",
    "    * Hablar de temas personales.\n",
    "    * Trabajar en grupo.\n",
    "    * Instrucciones incompletas o confusas."
   ]
  },
  {
   "cell_type": "markdown",
   "metadata": {},
   "source": [
    "#### _Director_\n",
    "\n",
    "![director](../images/PR4d.png)\n",
    "\n",
    "- ¿Qué hacen bien?\n",
    "    * Tomar el control.\n",
    "    * Realizar decisiones bajo riesgo.\n",
    "    * Sobreponerse a obstáculos.\n",
    "- ¿Qué les cuesta?\n",
    "    * Tareas repetitivas.\n",
    "    * Ser diplomáticos.\n",
    "    * Reglas y regulaciones.\n",
    "    * No son tímidos, pero sí reservados de temas personales."
   ]
  },
  {
   "cell_type": "markdown",
   "metadata": {},
   "source": [
    "#### _Relaters_\n",
    "\n",
    "![relatres](../images/PR4a.png)\n",
    "\n",
    "- ¿Qué hacen bien?\n",
    "    * Amigables y sensibles: buenos oyentes.\n",
    "    * Construir redes de amigos.\n",
    "    * Coordinar y cooperar con otros.\n",
    "- ¿Qué les cuesta?\n",
    "    * Competir.\n",
    "    * Trabajar con gente dictatorial o poco amigable.\n",
    "    * Tomar decisiones grandes, propensos a rechazar los cambios.\n",
    "    * Emitir opiniones contrarias."
   ]
  },
  {
   "cell_type": "markdown",
   "metadata": {},
   "source": [
    "#### _Socializers_\n",
    "\n",
    "![socializer](../images/PR4b.png)\n",
    "\n",
    "- ¿Qué hacen bien?\n",
    "    * Inspirar a otros a tomar acción.\n",
    "    * Pensar rápido: intuitivos, optimistas, creativos.\n",
    "    * Llenos de ideas, pero impulsivos.\n",
    "- ¿Qué les cuesta?\n",
    "    * Restricciones.\n",
    "    * Reportes formales o contabilidad.\n",
    "    * Rutina.\n",
    "    * Repetir acciones."
   ]
  },
  {
   "cell_type": "markdown",
   "metadata": {},
   "source": [
    "Para relacionarse con cada tipo de personalidad hay que **entregar lo que a la otra personalidad le parece importante**.\n",
    "\n",
    "Como enfrentar cada tipo de personalidad:\n",
    "\n",
    "1. Con Pensadores, sé detallado, bien preparado y paciente.\n",
    "1. Con Directores, sé eficiente y competente.\n",
    "1. Con Relacionadores, sé sincero y no amenazante.\n",
    "1. Con Sociabilizadores, interésate por ellos y sus historias.\n",
    "\n",
    "__¡Cuidado!__\n",
    "\n",
    "* La personalidad que uno cree/quiere tener es distinta de la que los demás perciben de uno mismo.\n",
    "* Una misma persona puede presentar diversas personalidades para distintos ámbitos: familia, trabajo, amigos. "
   ]
  },
  {
   "cell_type": "markdown",
   "metadata": {},
   "source": [
    "### Metodologías de Trabajo\n",
    "\n",
    "- ***Cascada (Waterfall)***: \n",
    "    * Cliente define requerimientos al inicio y empresa cumple, etapa a etapa, con desarrollo especificado.\n",
    "    * Orientado a proyectos de alta complejidad, con horizontes de tiempo de años.\n",
    "- ***Desarrollo Ágil (Agile)***: \n",
    "    * Trabajo codo a codo con cliente mediante iteraciones constantes.\n",
    "    * Orientado a proyectos de alta variabilidad, con horizontes de tiempo de semanas/meses."
   ]
  },
  {
   "cell_type": "markdown",
   "metadata": {},
   "source": [
    "#### Waterfall\n",
    "\n",
    "Enfoque metodológico que ordena rigurosa4ente las etapas del proceso para el desarrollo de software, de tal forma que el inicio de cada etapa debe esperar a la finalización de la etapa anterior.\n",
    "\n",
    "![waterfall](../images/MT1.png)\n",
    "\n",
    "- Ventajas\n",
    "    * Promueve análisis sobre improvisación: _Definir antes que diseñar, diseñar antes de codificar_.\n",
    "    * Modelo tradicional: ampliamente conocido y utilizado con frecuencia.\n",
    "    * Fácil de implementar, entender y dirigir.\n",
    "    * Requiere de menos capital y herramientas para hacerlo funcionar de manera óptima.\n",
    "- Desventajas\n",
    "    * Proyectos en el mundo real no son lineales; el cliente siempre tiene ideas adicionales. Involucrar tardíamente al cliente conlleva disconformidad y fracaso del proyecto.\n",
    "    * Secuencialismo: etapa $i+1$ no se puede llevar a cabo a menos que se haya culminado la etapa $i$.\n",
    "    * Demoras: No es posible paralelizar etapas y el software sólo puede validarse una vez que todas las etapas anteriores han finalizado.\n",
    "    * Propenso a costos adicionales: errores no detectados en etapa $i$ conducen a cambios en todas las etapas posteriores ya realizadas.\n",
    "    * Promueve respeto y obediencia sobre innovación y creatividad.\n",
    "\n",
    "![treeswing](../images/treeswing.jpg)"
   ]
  },
  {
   "cell_type": "markdown",
   "metadata": {},
   "source": [
    "#### Agile\n",
    "\n",
    "Enfoque metodológico que promueve el desarrollo iterativo e incremental, donde los requisitos y soluciones evolucionan mediante la colaboración de grupos auto-organizados y multidisciplinarios.\n",
    "\n",
    "![agile](../images/MT2.png)\n"
   ]
  },
  {
   "cell_type": "markdown",
   "metadata": {},
   "source": [
    "***Manifesto for Agile Software Development, 2001***\n",
    "\n",
    "We are uncovering better ways of developing software by doing it and helping others do it. Through this work we have come to value:\n",
    "\n",
    "* Individuals and interactions over processes and tools\n",
    "* Working software over comprehensive documentation\n",
    "* Customer collaboration over contract negotiation\n",
    "* Responding to change over following a plan\n",
    "\n",
    "That is, while there is value in the items on the right, we value the\n",
    "items on the left more."
   ]
  },
  {
   "cell_type": "markdown",
   "metadata": {},
   "source": [
    "__Principios Básicos__\n",
    "\n",
    "* La prioridad es satisfacer al cliente mediante tempranas y continuas entregas de software que le aporte un valor.\n",
    "* Dar la bienvenida a los cambios. Se capturan los cambios para que el cliente tenga una ventaja competitiva.\n",
    "* Entregar frecuentemente software que funcione desde un par de semanas a un par de meses, con el menor intervalo de tiempo posible entre entregas.\n",
    "* La gente del negocio y los desarrolladores deben trabajar juntos a lo largo del proyecto. El cliente es un aliado, no un enemigo.\n",
    "* Construir el proyecto en torno a individuos motivados. Darles el entorno y el apoyo que necesitan y confiar en ellos para conseguir finalizar el trabajo.\n",
    "* El diálogo cara a cara es el mejor método para comunicar información dentro de un equipo de desarrollo.\n",
    "* El software que funciona es la medida principal de progreso. La simplicidad es esencial.\n"
   ]
  },
  {
   "cell_type": "markdown",
   "metadata": {},
   "source": [
    "- Ventajas\n",
    "    * Respuesta rápida a cambios de requisitos, minimizando costos, tiempo y frustración.\n",
    "    * Efecto IKEA: el cliente se involucra y tiene una mejor satisfacción sobre el resultado final.\n",
    "    * Al privilegiar la simplicidad se eliminan trabajos innecesarios/superfluos.\n",
    "    * Permite paralelizar requerimientos y validar implementaciones por separado.\n",
    "    * Puesto que el software es siempre “casi funcional” permite mantener proyecto en costo acordado. Siempre es posible parar el proyecto en la iteración actual.\n",
    "    * Promueve innovación y creatividad sobre respeto y obediencia.\n",
    "- Desventajas\n",
    "    * Falta de documentación del diseño.\n",
    "    * Problemas derivados de la comunicación oral: ambiguedad y futilidad.\n",
    "    * Alta dependencia a las personas del equipo.\n",
    "    * Restricciones en cuanto al tamaño y la complejidad de los proyectos."
   ]
  },
  {
   "cell_type": "markdown",
   "metadata": {},
   "source": [
    "#### Agile vs Waterfall\n",
    "\n",
    "* Adaptividad vs Predictibilidad\n",
    "* Iterativo vs Secuencial\n",
    "* Código vs Documentación\n",
    "\n",
    "La Metodología Agil puede interpretarse como una aplicación del principio de Pareto (ley del 80-20), que dice que, para muchos eventos, aproximadamente 80% de los efectos proviene del 20% de las causas. \n",
    "\n",
    "Reuniones tempranas con el cliente permite determinar cuáles son las causas de mayor impacto y establecer una ruta óptima de construcción en función de los requerimientos cambiantes del cliente.\n",
    "\n",
    "Algunos ejemplos:\n",
    "- Aplicacion en Ingeniería\n",
    "    * Tener reuniones pequeñas reuniones semanales es mejor que una gran reunión mensual.\n",
    "    * Mejorar incrementalmente informe e implementación numérica.\n",
    "    * El cliente tiene derecho cambiar de opinión: ¡Está pagando por ello!\n",
    "- Aplicacion en Vida Universitaria\n",
    "    * Tener lo antes posible un entregable que garantice el 50-70 % de la nota.\n",
    "    * Mejorar incrementalmente el entregable, en función del tiempo disponible y del esfuerzo requerido.\n",
    "    * Si se requiere código numérico, preocuparse del código hasta que funcione, luego documentar.\n",
    "    * El profesor es el cliente: preguntar con tiempo y clarificar expectativas. Lo esencial es cumplir los requerimientos."
   ]
  },
  {
   "cell_type": "markdown",
   "metadata": {},
   "source": [
    "## Ética\n",
    "\n",
    "¿Has tomado algún curso de ética durante tu vida universitaria? ¿En cuántos cursos te han hablado de ética? Muchas veces el foco de aprendizaje son las habilidades técnicas, ya sea en menosprecio de las habilidades blandas o asumiendo que todos las poseen.\n",
    "\n",
    "Como cualquier otra habilidad, la ética hay que cultivarla. En conjunto a un pensamiento lógico y crítico es posible llevar los problemas con sus respectivas soluciones a un siguiente nivel.\n",
    "\n",
    "En el contexto del curso, hay una rama de la ética llamada _Data Ethics_, la cual cubre una gama increíblemente amplia de temas, muchos de los cuales son urgentes, aparecen en los titulares a diario y causan daño a las personas en este mismo momento."
   ]
  },
  {
   "cell_type": "markdown",
   "metadata": {},
   "source": [
    "### ¿Datos _limpios_ = _Buen_ modelo?\n",
    "\n",
    "En _machine learning_ se suele hablar mucho de datos sucios y el gasto de HH que implica procesarlos en función de obtener los datos estructurados con tal de ser el insumo de un algoritmo de aprendizaje. Entonces, el santo grial de estos ingenieros o los famosos _data scientits_ serían datos limpios, no procesar nada, _llegar y llevar_.\n",
    "\n",
    "Nuestro análisis no se puede quedar solo en el formato de las columnas o en la cantidad de datos faltantes, tiene que ir mucho más allá. Algunas preguntas que deberías hacer son:\n",
    "\n",
    "* ¿Cuál es la fuente de estos datos?\n",
    "* ¿Cómo se recolectaron?\n",
    "* ¿Son lo suficientemente robusto para generalizar y que el algoritmo _aprenda_?\n",
    "* ¿Representan la realidad?\n",
    "* ¿Tienen algún tipo de sesgo?\n",
    "* etc. $\\times$ 1000\n",
    "\n",
    "En ocasiones, ni siquiera esto es suficiente..."
   ]
  },
  {
   "cell_type": "markdown",
   "metadata": {},
   "source": [
    "#### Sesgo racial en pacientes enfermos\n",
    "\n",
    "En 2019, un estudio demostró que un algoritmo ampliamente utilizado por hospitales y aseguradoras de EE. UU. con la finalidad de asignar asistencia adicional para la gestión de la salud discriminaba sistemáticamente a las personas negras. La herramienta de decisión tenía menos probabilidades de derivar a las personas negras que a las blancas a programas de gestión de la atención para necesidades médicas complejas cuando ambos grupos raciales estaban igualmente enfermos.\n",
    "\n",
    "La razón subyacente del sesgo estaba relacionada con el algoritmo de asignación de puntajes de riesgo a los pacientes en función de los costos médicos del año anterior. La suposición era que la identificación de pacientes con costos más altos identificaría a aquellos con las necesidades médicas más altas. Sin embargo, muchos pacientes negros tienen menos acceso, menos capacidad de pago y menos confianza en la atención médica que las personas blancas que están igualmente enfermas. En este caso, sus costos médicos más bajos no predijeron con precisión su estado de salud.\n",
    "\n",
    "Fuente y más ejemplos: https://www.investopedia.com/bias-in-medical-decision-making-tools-5083308"
   ]
  },
  {
   "cell_type": "markdown",
   "metadata": {},
   "source": [
    "#### _Weapons of Math Destruction_\n",
    "\n",
    "![wmd](https://images-na.ssl-images-amazon.com/images/I/51eUw-v0X+L._SX329_BO1,204,203,200_.jpg)\n",
    "\n",
    "_We live in the age of the algorithm. Increasingly, the decisions that affect our lives—where we go to school, whether we get a car loan, how much we pay for health insurance—are being made not by humans, but by mathematical models. In theory, this should lead to greater fairness: Everyone is judged according to the same rules, and bias is eliminated._\n",
    "\n",
    "_But as Cathy O’Neil reveals in this urgent and necessary book, the opposite is true. The models being used today are opaque, unregulated, and uncontestable, even when they’re wrong. Most troubling, they reinforce discrimination: If a poor student can’t get a loan because a lending model deems him too risky (by virtue of his zip code), he’s then cut off from the kind of education that could pull him out of poverty, and a vicious spiral ensues. Models are propping up the lucky and punishing the downtrodden, creating a “toxic cocktail for democracy.” Welcome to the dark side of Big Data._\n",
    "\n",
    "**Video Super-mega-recomendado:** [The era of blind faith in big data must end | Cathy O'Neil](https://youtu.be/_2u_eHHzRto)"
   ]
  },
  {
   "cell_type": "markdown",
   "metadata": {},
   "source": [
    "## Próximos pasos"
   ]
  },
  {
   "cell_type": "markdown",
   "metadata": {},
   "source": [
    "De este punto en adelante, cada uno es libre de tomar el camino que más le guste. A continuación algunos temas que puedes seguir estudiando para complementar los contenidos del curso y tu desarrollo profesional.\n",
    "\n",
    "1. _Data Ethics_\n",
    "    - Sin duda de lo más importante, al trabajar con modelos estamos plasmando opiniones en forma de código.\n",
    "    - Este mini-curso se ve muy muy bueno: [Practical Data Ethics](https://ethics.fast.ai/)\n",
    "1. Relaciones interpersonales\n",
    "    - Identificar qué tipo de personalidad posees (hay tests disponibles en internet).\n",
    "    - Entender y aplicar metodologías de trabajo sacando provecho a tu personalidad.\n",
    "1. Modelamiento\n",
    "    - Preprocesamiento\n",
    "        * Tratar _features_ categóricas, por ejemplo _One-Hot-Encoding_.\n",
    "        * Tratar con datos desbalanceados, por ejemplo _Over-Sampling_.\n",
    "        * _Dimensionality Reduction_, _Feature Selection_, etc., por ejemplo, _Principal Component Analysis_.\n",
    "    - Modelos de Machine Learning\n",
    "        * _Suppor Vector Machine_\n",
    "        * _Decision Trees_\n",
    "        * _Ensemble Methods_\n",
    "    - Redes Neuronales y Deep Learning\n",
    "        * Toda la teoría, incluído redes convolusionales y modelos secuenciales.\n",
    "        * Frameworkds como Tensorflow, Keras, PyTorch entre otros.\n",
    "    - _Hyperparameter tunning_\n",
    "    - _Feature Importance_\n",
    "        * Explicar modelos.\n",
    "        * SHAP (este en particular es el que más me gusta a mi).\n",
    "1. Operacionales\n",
    "    - SQL\n",
    "    - Git\n",
    "    - Power BI, Tableau, Google Data Studio, Dash u otra herramienta para realizar dashboards.\n",
    "    - Docker\n",
    "    - Linux\n",
    "    - Cloud Computing (AWS, GCP, Azure)\n",
    "    - Otro lenguaje de programación"
   ]
  }
 ],
 "metadata": {
  "kernelspec": {
   "display_name": "Python 3",
   "language": "python",
   "name": "python3"
  },
  "language_info": {
   "codemirror_mode": {
    "name": "ipython",
    "version": 3
   },
   "file_extension": ".py",
   "mimetype": "text/x-python",
   "name": "python",
   "nbconvert_exporter": "python",
   "pygments_lexer": "ipython3",
   "version": "3.8.5"
  }
 },
 "nbformat": 4,
 "nbformat_minor": 4
}
