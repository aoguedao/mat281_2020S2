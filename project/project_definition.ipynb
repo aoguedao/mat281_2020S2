{
 "cells": [
  {
   "cell_type": "markdown",
   "metadata": {},
   "source": [
    "# Proyecto Final"
   ]
  },
  {
   "cell_type": "markdown",
   "metadata": {},
   "source": [
    "La finalidad de este proyecto es enfrentar a los estudiantes a problemas de Machine Learning con todas las etapas (típicas) que eso implica. Basándose en cada uno de los módulos del curso a lo largo del semestre es posible tener abarcar estas etapas, dando pie a la investigación y a la solución de problemas operacionales que el problema podría poseer inherentemente."
   ]
  },
  {
   "cell_type": "markdown",
   "metadata": {},
   "source": [
    "## Entregas"
   ]
  },
  {
   "cell_type": "markdown",
   "metadata": {},
   "source": [
    "El proyecto consiste de dos notas, el primero reemplaza la nota de la tarea 3.\n",
    "\n",
    "1. Propuesta de trabajo (viernes 19 de diciembre, 2020)\n",
    "2. Resultados finales (viernes 8 de enero, 2021)"
   ]
  },
  {
   "cell_type": "markdown",
   "metadata": {},
   "source": [
    "## Rúbrica\n",
    "\n",
    "A continuación se detalla la rúbrica de cada entregable"
   ]
  },
  {
   "cell_type": "markdown",
   "metadata": {},
   "source": [
    "### Propuesta de trabajo\n",
    "\n",
    "Presentación grupal, puede ser utilizando diapositivas o jupyter lab.\n",
    "\n",
    "1. Presentación de los datos, definición de variables y contexto de la problemática. (10 puntos)\n",
    "2. ¿Cuál es la pregunta que desean resolver? (5 puntos)\n",
    "3. Análisis estadístico de los datos. (15 puntos)\n",
    "4. Visualización de variables. (15 puntos)\n",
    "5. ¿Hay que realizar preprocesamiento? (15 puntos)\n",
    "6. ¿Hay que realizar inputación de datos faltantes? (15 puntos)\n",
    "7. ¿Hay que realizar balanceo de datos? (15 puntos)\n",
    "8. Propuesta de cuatro modelos y sus hiperparámetros asociados. (20 puntos)"
   ]
  },
  {
   "cell_type": "markdown",
   "metadata": {},
   "source": [
    "### Resultados finales\n",
    "\n",
    "1. Definición del problema (5 puntos)\n",
    "2. Estadística descriptiva (5 puntos)\n",
    "3. Visualización descriptiva (10 puntos)\n",
    "4. Preprocesamiento (20 puntos\n",
    "5. Selección de modelo (35 puntos)\n",
    "    1. Por lo menos debe comparar cuatro modelos\n",
    "    2. Al menos tres de estos modelos tienen que tener hiperparámetros.\n",
    "    3. Realizar optimización de hiperparámetros.\n",
    "6. Métricas y análissi de resultaods (10 puntos)\n",
    "7. Visualizaciones del modelo (10 puntos)\n",
    "8. Conclusiones (5 puntos)"
   ]
  },
  {
   "cell_type": "markdown",
   "metadata": {},
   "source": [
    "## Datos"
   ]
  },
  {
   "cell_type": "markdown",
   "metadata": {},
   "source": [
    "Cada grupo debe escoger un conjunto de datos y no se puede repetir entre grupos. Para inscribir su grupo deben enviar un correo a alonso.ogueda@usm.cl indicando nombre de los integrantes y tres conjuntos de datos en orden de preferencia. Los conjuntos de datos serán asignados por orden según la hora y fecha en que enviaron el correo de inscripción."
   ]
  },
  {
   "cell_type": "markdown",
   "metadata": {},
   "source": [
    "### Clasificación\n",
    "\n",
    "* [Bot Sentinel Twitter Trolls & Bots](https://qri.cloud/xristosk/bot_sentin)\n",
    "* [Statlog (Shuttle)](https://archive.ics.uci.edu/ml/datasets/Statlog+%28Shuttle%29)\n",
    "* [Activity Recognition Old People](https://archive.ics.uci.edu/ml/datasets/Activity+recognition+with+healthy+older+people+using+a+batteryless+wearable+sensor)\n",
    "* [Heart Failure](https://www.kaggle.com/andrewmvd/heart-failure-clinical-data)\n",
    "* [Credit Card Fraud](https://www.kaggle.com/mlg-ulb/creditcardfraud)\n",
    "* [Mushroom](https://archive.ics.uci.edu/ml/datasets/Mushroom)\n",
    "* [Structural Protein Sequence](https://www.kaggle.com/shahir/protein-data-set?select=pdb_data_no_dups.csv)\n",
    "* [Earthquake Damage](https://www.kaggle.com/mullerismail/richters-predictor-modeling-earthquake-damage?select=train_values.csv)\n",
    "* [Air Quality](https://www.kaggle.com/airqualityanthony/leamington-aurn-air-quality-data)"
   ]
  },
  {
   "cell_type": "markdown",
   "metadata": {},
   "source": [
    "### Rregresión\n",
    "\n",
    "* [Wine Quality](https://archive.ics.uci.edu/ml/datasets/wine+quality)\n",
    "* [Amsterdam AirBNB](https://www.kaggle.com/adityadeshpande23/amsterdam-airbnb?select=train.csv)\n",
    "* [Housing Price](https://www.kaggle.com/ishandutta/machine-hack-housing-price-prediction?select=Train.csv)\n",
    "* [Air Quality](https://www.kaggle.com/airqualityanthony/leamington-aurn-air-quality-data)"
   ]
  }
 ],
 "metadata": {
  "kernelspec": {
   "display_name": "Python 3",
   "language": "python",
   "name": "python3"
  },
  "language_info": {
   "codemirror_mode": {
    "name": "ipython",
    "version": 3
   },
   "file_extension": ".py",
   "mimetype": "text/x-python",
   "name": "python",
   "nbconvert_exporter": "python",
   "pygments_lexer": "ipython3",
   "version": "3.8.5"
  }
 },
 "nbformat": 4,
 "nbformat_minor": 4
}
